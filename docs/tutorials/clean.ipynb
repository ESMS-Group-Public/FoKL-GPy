{
 "cells": [
  {
   "cell_type": "markdown",
   "metadata": {},
   "source": [
    "# Tutorial\n",
    "\n",
    "```self.clean(self, inputs, data=None, **kwargs)```\n",
    "\n",
    "This is a tutorial for the 'clean' method, a necessary step for ensuring FoKL may process almost any dataset. In the\n",
    "following script, it will be shown how 'clean' may be used to automatically format and normalize a raw dataset, only format, or normalize to a wider range of values which is most useful for applications in the 'update' method."
   ]
  },
  {
   "cell_type": "code",
   "execution_count": 10,
   "metadata": {},
   "outputs": [],
   "source": [
    "# # -----------------------------------------------------------------------\n",
    "# # Local version of 'from FoKL import FoKLRoutines':\n",
    "# import os\n",
    "# import sys\n",
    "# dir = os.path.abspath('')  # directory of script\n",
    "# sys.path.append(dir)\n",
    "# sys.path.append(os.path.join(dir, '..', '..'))  # package directory\n",
    "# from src.FoKL import FoKLRoutines\n",
    "# # -----------------------------------------------------------------------\n",
    "from FoKL import FoKLRoutines\n",
    "# -----------------------------------------------------------------------\n",
    "import numpy as np\n",
    "\n",
    "\n",
    "# Example dataset:\n",
    "inputs = [np.linspace(0, 10, 100), 10 * np.random.rand(100)]\n",
    "data = inputs[0] ** 2 + inputs[1]\n",
    "\n",
    "# Initialize FoKL class object:\n",
    "model = FoKLRoutines.FoKL(UserWarnings=False)"
   ]
  },
  {
   "cell_type": "markdown",
   "metadata": {},
   "source": [
    "## Standard Use\n",
    "\n",
    "(ignore ```_setattr=True```; this may be left out when using ```clean```)\n",
    "\n",
    "If the raw dataset is thought to be complete, without new data expected, but most importantly without new input variable mininma or maxima expected, 'clean' only needs to be called once.\n",
    "\n",
    "To train on the entire dataset,"
   ]
  },
  {
   "cell_type": "code",
   "execution_count": 11,
   "metadata": {},
   "outputs": [
    {
     "name": "stdout",
     "output_type": "stream",
     "text": [
      "[[0.0, 10.0], [0.04383571314254042, 9.995348412588012]]\n",
      "[[0.0, 1.0], [0.0, 1.0]]\n"
     ]
    }
   ],
   "source": [
    "model.clean(inputs, data, _setattr=True)\n",
    "\n",
    "print(model.minmax)\n",
    "print([[np.min(model.inputs[:, 0]), np.max(model.inputs[:, 0])], [np.min(model.inputs[:, 1]), np.max(model.inputs[:, 1])]])"
   ]
  },
  {
   "cell_type": "markdown",
   "metadata": {
    "vscode": {
     "languageId": "plaintext"
    }
   },
   "source": [
    "To train on a percentage (i.e., (0, 1) fraction) of the dataset selected randomly,"
   ]
  },
  {
   "cell_type": "code",
   "execution_count": 12,
   "metadata": {},
   "outputs": [],
   "source": [
    "_ = model.clean(inputs, data, train=0.8, _setattr=True)"
   ]
  },
  {
   "cell_type": "markdown",
   "metadata": {},
   "source": [
    "## Anticipating New Data\n",
    "\n",
    "If it is expected that future evaluations of the model will be done at inputs beyond what the training set contains, the normalization [min, max] bounds may be expanded in a couple ways.\n",
    "\n",
    "Most simply, [min, max] may be specified."
   ]
  },
  {
   "cell_type": "code",
   "execution_count": 13,
   "metadata": {},
   "outputs": [
    {
     "name": "stdout",
     "output_type": "stream",
     "text": [
      "[[-1, 12], [0, 10]]\n",
      "[[0.07692307692307693, 0.8461538461538461], [0.004383571314254042, 0.9995348412588012]]\n"
     ]
    }
   ],
   "source": [
    "model.clean(inputs, data, minmax=[[-1, 12], [0, 10]], _setattr=True)  # expand bounds of first input variable\n",
    "\n",
    "print(model.minmax)\n",
    "print([[np.min(model.inputs[:, 0]), np.max(model.inputs[:, 0])], [np.min(model.inputs[:, 1]), np.max(model.inputs[:, 1])]])"
   ]
  },
  {
   "cell_type": "markdown",
   "metadata": {},
   "source": [
    "A pillow buffer may also be specified. The pillow may either be as a percent of the max-min span (default),"
   ]
  },
  {
   "cell_type": "code",
   "execution_count": 14,
   "metadata": {},
   "outputs": [
    {
     "name": "stdout",
     "output_type": "stream",
     "text": [
      "[[-2.3, 14.6], [0, 10]]\n",
      "[[0.13609467455621302, 0.727810650887574], [0.004383571314254042, 0.9995348412588012]]\n"
     ]
    }
   ],
   "source": [
    "model.clean(inputs, data, pillow=[[0.1, 0.2], [0, 0]], _setattr=True)  # 10% of span added below min; 20% of span added above max\n",
    "\n",
    "print(model.minmax)\n",
    "print([[np.min(model.inputs[:, 0]), np.max(model.inputs[:, 0])], [np.min(model.inputs[:, 1]), np.max(model.inputs[:, 1])]])"
   ]
  },
  {
   "cell_type": "markdown",
   "metadata": {},
   "source": [
    "Or, the pillow may be the values to which [min, max] will map when placed on a 0-1 scale by setting ```pillow_type='absolute'```, with the upper value being the distance less than 1,"
   ]
  },
  {
   "cell_type": "code",
   "execution_count": 15,
   "metadata": {},
   "outputs": [
    {
     "name": "stdout",
     "output_type": "stream",
     "text": [
      "[[-4.7142857142857135, 19.428571428571423], [0, 10]]\n",
      "[[0.1952662721893491, 0.6094674556213019], [0.004383571314254042, 0.9995348412588012]]\n"
     ]
    }
   ],
   "source": [
    "model.clean(inputs, data, pillow=[[0.1, 0.2], [0, 0]], pillow_type='absolute', _setattr=True)  # inputs map to [0.1, 0.8] \n",
    "\n",
    "print(model.minmax)\n",
    "print([[np.min(model.inputs[:, 0]), np.max(model.inputs[:, 0])], [np.min(model.inputs[:, 1]), np.max(model.inputs[:, 1])]])"
   ]
  },
  {
   "cell_type": "markdown",
   "metadata": {},
   "source": [
    "## New Data\n",
    "\n",
    "Often it is the case that new data must be formatted and normalized according to the previous [min, max] bounds. To achieve this,"
   ]
  },
  {
   "cell_type": "code",
   "execution_count": 16,
   "metadata": {},
   "outputs": [
    {
     "name": "stdout",
     "output_type": "stream",
     "text": [
      "[[0.21183432 0.42      ]\n",
      " [0.5556213  0.6       ]\n",
      " [0.37337278 0.85      ]]\n"
     ]
    }
   ],
   "source": [
    "model.clean([[0.4, 8.7, 4.3], [4.2, 6, 8.5]], _setattr=True)\n",
    "\n",
    "print(model.inputs)"
   ]
  },
  {
   "cell_type": "markdown",
   "metadata": {},
   "source": [
    "Or, if normalization has already been applied to the new data somehow and all that is desired is the automatic formatting,"
   ]
  },
  {
   "cell_type": "code",
   "execution_count": 17,
   "metadata": {},
   "outputs": [
    {
     "name": "stdout",
     "output_type": "stream",
     "text": [
      "[[0.4 4.2]\n",
      " [8.7 6. ]\n",
      " [4.3 8.5]]\n"
     ]
    }
   ],
   "source": [
    "model.clean([[0.4, 8.7, 4.3], [4.2, 6, 8.5]], normalize=False, _setattr=True)\n",
    "\n",
    "print(model.inputs)"
   ]
  },
  {
   "cell_type": "markdown",
   "metadata": {},
   "source": [
    "Additionally, if simply wishing to format any dataset (e.g., Pandas) into an $[n \\times m]$ ndarray of $n$ datapoints and $m$ input variables, where $n \\gt m$,"
   ]
  },
  {
   "cell_type": "code",
   "execution_count": 18,
   "metadata": {},
   "outputs": [
    {
     "name": "stdout",
     "output_type": "stream",
     "text": [
      "Original dataset:\n",
      "      A    B    C\n",
      "x0  0.4  8.7  4.3\n",
      "x1  4.2  6.0  8.5\n",
      "\n",
      "Dataset automatically formatted:\n",
      "[[0.4 4.2]\n",
      " [8.7 6. ]\n",
      " [4.3 8.5]]\n",
      "\n",
      "Formatted dataset automatically normalized:\n",
      "[[0.         0.        ]\n",
      " [1.         0.41860465]\n",
      " [0.46987952 1.        ]]\n"
     ]
    }
   ],
   "source": [
    "import pandas as pd\n",
    "\n",
    "\n",
    "pd_data = np.array([[0.4, 8.7, 4.3], [4.2, 6, 8.5]])    # example data\n",
    "pd_rows = ['x0', 'x1']                                  # example input variables\n",
    "pd_cols = ['A', 'B', 'C']                               # example instances\n",
    "pd_dataset = pd.DataFrame(pd_data, pd_rows, pd_cols)    # example Pandas dataset\n",
    "\n",
    "print(\"Original dataset:\")\n",
    "print(pd_dataset)\n",
    "\n",
    "# ------------------------\n",
    "\n",
    "formatted_dataset = model.clean(pd_dataset, normalize=False)\n",
    "\n",
    "print(\"\\nDataset automatically formatted:\")\n",
    "print(formatted_dataset)\n",
    "\n",
    "# ------------------------\n",
    "\n",
    "del model.minmax  # delete 'model.minmax' since previously defined and 'model.clean(..., minmax=None)' in next line, because will normalize to these bounds instead of this dataset's [min, max]\n",
    "normalized_dataset = model.clean(formatted_dataset)  # use 'copy.copy(formatted_dataset)' if not wanting to overwrite 'formatted_dataset'\n",
    "\n",
    "print(\"\\nFormatted dataset automatically normalized:\")\n",
    "print(normalized_dataset)"
   ]
  },
  {
   "cell_type": "markdown",
   "metadata": {},
   "source": [
    "However, if $m \\gt n$ (i.e., more input variables than instances), then be careful that ndarray is aligned accordingly. In this case, use ```AutoTranspose=False``` to preserve shape of original dataset:"
   ]
  },
  {
   "cell_type": "code",
   "execution_count": 19,
   "metadata": {},
   "outputs": [
    {
     "name": "stdout",
     "output_type": "stream",
     "text": [
      "Original dataset:\n",
      "    x0   x1   x2\n",
      "A  0.4  8.7  4.3\n",
      "B  4.2  6.0  8.5\n",
      "\n",
      "Dataset automatically formatted (with 'AutoTranspose=False'):\n",
      "[[0.4 8.7 4.3]\n",
      " [4.2 6.  8.5]]\n"
     ]
    }
   ],
   "source": [
    "pd_rows = ['A', 'B']                                    # example instances\n",
    "pd_cols = ['x0', 'x1', 'x2']                            # example input variables\n",
    "pd_dataset = pd.DataFrame(pd_data, pd_rows, pd_cols)    # example Pandas dataset\n",
    "\n",
    "print(\"Original dataset:\")\n",
    "print(pd_dataset)\n",
    "\n",
    "# ------------------------\n",
    "\n",
    "print(\"\\nDataset automatically formatted (with 'AutoTranspose=False'):\")\n",
    "print(model.clean(pd_dataset, normalize=False, AutoTranspose=False))"
   ]
  },
  {
   "cell_type": "markdown",
   "metadata": {},
   "source": [
    "## Use in fit and evaluate\n",
    "\n",
    "To use ```clean``` in ```fit``` and ```evaluate```, simply pass keywords into the function arguments."
   ]
  },
  {
   "cell_type": "code",
   "execution_count": 20,
   "metadata": {},
   "outputs": [
    {
     "name": "stdout",
     "output_type": "stream",
     "text": [
      "[1, 517.0464138404218]\n",
      "[2, 517.0464138404218]\n",
      "[2, -294.6364409687906]\n",
      "[3, -294.6364409687906]\n",
      "[3, -298.8398238770909]\n",
      "[4, -298.8398238770909]\n",
      "[4, -298.8398238770909]\n",
      "[4, -649.3022820024937]\n",
      "[5, -655.5376100317794]\n",
      "[5, -665.4010311834971]\n",
      "[5, -706.6612485231734]\n",
      "[6, -706.6612485231734]\n",
      "[6, -715.4259120137979]\n",
      "[6, -715.4259120137979]\n",
      "[6, -928.9337228975271]\n",
      "[7, -948.8205776433674]\n",
      "[7, -948.8205776433674]\n",
      "[7, -948.8205776433674]\n",
      "[7, -1003.7555209494859]\n",
      "[8, -1005.0202144606648]\n",
      "[8, -1005.0202144606648]\n",
      "[8, -1005.0202144606648]\n",
      "[8, -1005.0202144606648]\n"
     ]
    },
    {
     "data": {
      "image/png": "[encoded data removed]",
      "text/plain": [
       "<Figure size 640x480 with 1 Axes>"
      ]
     },
     "metadata": {},
     "output_type": "display_data"
    },
    {
     "name": "stdout",
     "output_type": "stream",
     "text": [
      "[ 3.07894273 81.04990837 27.5993045 ]\n"
     ]
    }
   ],
   "source": [
    "del model.minmax  # delete 'model.minmax' since previously defined and 'model.clean(..., minmax=None)' in next line, because will normalize to these bounds instead of this dataset's [min, max]\n",
    "\n",
    "model.fit(inputs, data, clean=True, pillow=[[0.1, 0.2], [0, 0]], pillow_type='absolute')\n",
    "model.coverage3(plot=True, xaxis=0)  # validation plot\n",
    "\n",
    "print(model.evaluate([[0.4, 8.7, 4.3], [4.2, 6, 8.5]], clean=True))"
   ]
  },
  {
   "cell_type": "markdown",
   "metadata": {},
   "source": [
    "Note in typical use, ```del model.minmax``` should not be needed. It is expected that the normalization 'minmax' bounds will only need to be defined once when first calling ```clean```. The only reason ```del model.minmax``` was used in this tutorial was to showcase the flexible ways ```clean``` behaves when first being called (i.e., before ```model.minmax``` is defined). For thoroughness, if ```minmax``` is defined in the ```clean``` function argument, ```model.minmax``` gets overrided; though, there is likely not a typical use case for this."
   ]
  }
 ],
 "metadata": {
  "kernelspec": {
   "display_name": "Python 3",
   "language": "python",
   "name": "python3"
  },
  "language_info": {
   "codemirror_mode": {
    "name": "ipython",
    "version": 3
   },
   "file_extension": ".py",
   "mimetype": "text/x-python",
   "name": "python",
   "nbconvert_exporter": "python",
   "pygments_lexer": "ipython3",
   "version": "3.12.3"
  }
 },
 "nbformat": 4,
 "nbformat_minor": 2
}
