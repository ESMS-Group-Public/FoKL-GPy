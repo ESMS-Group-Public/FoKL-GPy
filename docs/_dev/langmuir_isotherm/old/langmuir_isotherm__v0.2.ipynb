{
 "cells": [
  {
   "cell_type": "markdown",
   "metadata": {},
   "source": [
    "# Use of FoKL-GPy's symbolic Gaussian process in improved fitting of Langmuir isotherm adsorption model parameters\n",
    "\n",
    "---\n",
    "\n",
    "## Background\n",
    "\n",
    "The Langmuir isotherm is\n",
    "$\\theta_1 = \\frac{q}{q_{max}} = \\frac{\\sigma_1 \\mu}{1 + \\sigma_1 \\mu}$\n",
    "where\n",
    "$\\mu = \\frac{m}{M} = \\frac{p}{\\sqrt{2 \\pi M R T}}$.\n",
    "\n",
    "Rearranging,\n",
    "$q = \\frac{\\sigma_1 q_{max} \\mu}{1 + \\sigma_1 \\mu}$.\n",
    "\n",
    "For varying pressure $p$ at constant temperature $T$, it is typically assumed that $\\sigma_1$ is constant such that\n",
    "$\\sigma_1 \\mu = a p$.\n",
    "\n",
    "This assumption, together with $b \\equiv q_{max}$, enable\n",
    "$\\frac{p}{q} = \\frac{1}{b}p + \\frac{1}{ab}$\n",
    "which is just $y=mx+b$ such that a linear fit of measurements $q(p)$ provides constant values $a$ and $b$ at constant $T$.\n",
    "\n",
    "---\n",
    "\n",
    "## The Case for FoKL-GPy\n",
    "\n",
    "Examining more closely reveals\n",
    "$\\sigma_1 \\mu = \\sigma_1 \\frac{p}{\\sqrt{2 \\pi M R T}} \\implies a = \\frac{\\sigma_1}{\\sqrt{2 \\pi M R T}}$.\n",
    "\n",
    "Unless reaction rates $\\alpha$ and $\\nu_1$ are constant with respect to pressure, since $\\sigma_1 = \\frac{\\alpha}{\\nu_1}$, the typical assumption that $a$ is constant at $T$ may be improved with the modeling of a Gaussian process (GP). In other words, at constant $T$, assuming $a$ is constant is equivalent to assuming $\\sigma_1$ is constant.\n",
    "\n",
    "Examining the reaction rates as expressed in the relative life,\n",
    "$\\sigma_1 = \\frac{\\alpha}{\\nu_1} = \\frac{\\exp(\\Delta_f G / RT)}{\\exp(\\Delta_r G / RT)} = \\exp(\\frac{\\Delta_f G - \\Delta_r G}{RT})$.\n",
    "\n",
    "Since Gibbs free energy $G$ is not independent of $p$, and therefore $\\sigma_1$ is not constant at constant $T$, $\\sigma_1$ may be more accurately modeled with a GP rather than linear fit. Furthermore, since a FoKL-GPy model may be embedded in Pyomo, additional chemistry constraints and an optimization objective may be included, though this is also possible with a linear Langmuir isotherm model.\n",
    "\n",
    "---\n",
    "\n",
    "## Outline of Method\n",
    "\n",
    "Langmuir's mica experiment contains measurements of $q$ for varying $p$ at constant $T$. He conducted this experiment at $T=90\\ \\text{K}$ and again at $T=155\\ \\text{K}$. Note the improvement enabled by a GP exists even for data obtained at a single temperature, but variations due to temperature may be captured too since the data is available.\n",
    "\n",
    "To ensure $\\sigma_1$ is positive such that the model has physical meaning, the GP model will be trained on the exponent of $\\sigma_1$ since the GP itself may not be constrained to positive values.\n",
    "\n",
    "That is, the FoKL-GPy model at constant $T$ would be $\\Delta \\equiv \\frac{\\Delta_f G - \\Delta_r G}{RT} = \\ln(\\sigma_1) \\propto p$. However, since data is available at multiple temperatures, the model will be expanded to $\\Delta \\propto (T, p)$ for demonstration. With the data limited to only two temperatures, it is not expected for the GP to provide accurate predictions except near $T=90\\ \\text{K}$ or $T=155\\ \\text{K}$.\n",
    "\n",
    "From the measurements, $\\sigma_1$ must first be calculated. Recall $q = \\frac{\\sigma_1 q_{max} \\mu}{1 + \\sigma_1 \\mu}$, which yields $\\sigma_1 = \\frac{q}{\\mu(q_{max}-q)}$. If $q_{max}$ is known, then $\\sigma_1$ may be solved for since $q$ is measured and $\\mu$ is a known function of $(T, p)$. Therefore, $q_{max}$ must be modeled or measured in some way.\n",
    "\n",
    "Taking $q_{max}$ to be the $b$ value from the linear fit as found by Langmuir, at least for this benchmark comparison, enables $\\sigma_1$ to be calculated. Note it is reasonable to assume $q_{max}$ is independent of $p$ since the driving force of the surface characteristics is $T$. So, despite $b$ being independent of $p$, there is no drawback. The place to improve here would be to measure or model $q_{max}$ in perhaps a more direct or accurate way. Measurements of $q$ after a long time, i.e., $\\frac{\\partial}{\\partial t}(q) \\approx 0$, could also provide values of $q_{max}$.\n",
    "\n",
    "## Implementation of Method\n",
    "\n",
    "Data from Langmuir's mica experiment, Tables II-VI and X, have been written to *txt* files *N2*, *CH4*, *CO*, *Ar*, and *O2*. For example, the *N2* dataset is as follows.\n",
    "\n",
    "| $T$     | $p$     | $q_{obs}$ | $b$   | $q_{cal}$ |\n",
    "|---------|---------|---------|---------|---------|\n",
    "| 90      | 37.5    | 24.2    | 32.5    | 24.6    |\n",
    "| \"       | 25.7    | 22.7    | \"       | 22.4    |\n",
    "| \"       | 4.04    | 7.55    | \"       | 8.3     |\n",
    "| \"       | 2.8     | 6.8     | \"       | 6.2     |\n",
    "| 155     | 65.8    | 6.2     | 11.8    | 6.3     |\n",
    "| \"       | 37.5    | 4.8     | \"       | 4.7     |\n",
    "| \"       | 3.9     | 0.43    | \"       | 0.75    |\n",
    "| \"       | 2.2     | 0.43    | \"       | 0.43    |\n",
    "\n",
    "Note that to fill in values of $q$ for *CO*, *Ar*, and *O2*, where $q_{obs}$ is missing in the Tables, Equation 31 was used with $(p,a,b)$ values as listed in the Tables. Also note $q_{cal}$ is included for benchmark comparison, but is not used for the FoKL-GPy model.\n",
    "\n",
    "Nomenclature:\n",
    "| Langmuir | FoKL-GPy |\n",
    "|---|---|\n",
    "| $q_{obs}$ | $q \\implies$ ```q``` |\n",
    "| $b$ | $q_{max} \\implies$ ```qmax``` |\n",
    "| $q_{cal}$ | $q_{cal} \\implies$ ```qcal``` |\n",
    "\n",
    "---\n",
    "\n",
    "Importing modules and defining constants:"
   ]
  },
  {
   "cell_type": "code",
   "execution_count": 1,
   "metadata": {},
   "outputs": [],
   "source": [
    "import os\n",
    "import sys\n",
    "sys.path.append(os.path.join('..', '..', '..'))  # include local path (i.e., this package)\n",
    "\n",
    "from src.FoKL import FoKLRoutines\n",
    "from src.FoKL import fokl_to_pyomo\n",
    "import pyomo.environ as pyo\n",
    "from pyomo.environ import *\n",
    "import numpy as np\n",
    "\n",
    "\n",
    "gases = ['N2', 'CH4', 'CO', 'Ar', 'O2']\n",
    "M = {'N2': 0.0280134, 'CH4': 0.01604246, 'CO': 0.0280101, 'Ar': 0.039948, 'O2': 0.0319988}  # molecular weight, kg / mol\n",
    "R = 8.31446261815324  # universal gas constant, J / (K * mol)"
   ]
  },
  {
   "cell_type": "markdown",
   "metadata": {},
   "source": [
    "Loading the data:"
   ]
  },
  {
   "cell_type": "code",
   "execution_count": 2,
   "metadata": {},
   "outputs": [],
   "source": [
    "data = {}\n",
    "for gas in gases:\n",
    "    data.update({gas: np.loadtxt(os.path.join('data', f\"{gas}.txt\"), skiprows=1)})"
   ]
  },
  {
   "cell_type": "markdown",
   "metadata": {},
   "source": [
    "Parsing the data and converting units to SI:"
   ]
  },
  {
   "cell_type": "code",
   "execution_count": 3,
   "metadata": {},
   "outputs": [],
   "source": [
    "T = {}\n",
    "p = {}\n",
    "q = {}\n",
    "qmax = {}\n",
    "qcal = {}  # for benchmark comparison\n",
    "for gas in gases:\n",
    "    T.update({gas: data[gas][:, 0]})  # K\n",
    "    p.update({gas: data[gas][:, 1] * 1e5})  # bars to Pa\n",
    "    q.update({gas: data[gas][:, 2] * 1e-9})  # mm^3 to m^3\n",
    "    qmax.update({gas: data[gas][:, 3] * 1e-9})  # mm^3 to m^3\n",
    "    qcal.update({gas: data[gas][:, 4] * 1e-9})  # mm^3 to m^3"
   ]
  },
  {
   "cell_type": "markdown",
   "metadata": {},
   "source": [
    "Calculating $mu$ and $sigma_1$:"
   ]
  },
  {
   "cell_type": "code",
   "execution_count": 4,
   "metadata": {},
   "outputs": [],
   "source": [
    "mu = {}\n",
    "sigma1 = {}\n",
    "for gas in gases:\n",
    "    mu.update({gas: p[gas] /np.sqrt(2 * np.pi * M[gas] * R * T[gas])})\n",
    "    sigma1.update({gas: q[gas] / mu[gas] / (qmax[gas] - q[gas])})"
   ]
  },
  {
   "cell_type": "markdown",
   "metadata": {},
   "source": [
    "Initializing FoKL-GPy models with continuous basis functions, i.e., ```kernel=1```:"
   ]
  },
  {
   "cell_type": "code",
   "execution_count": 5,
   "metadata": {},
   "outputs": [],
   "source": [
    "N2 = FoKLRoutines.FoKL(kernel=1)\n",
    "CH4 = FoKLRoutines.FoKL(kernel=1)\n",
    "CO = FoKLRoutines.FoKL(kernel=1)\n",
    "Ar = FoKLRoutines.FoKL(kernel=1)\n",
    "O2 = FoKLRoutines.FoKL(kernel=1)\n",
    "\n",
    "models = [N2, CH4, CO, Ar, O2]"
   ]
  },
  {
   "cell_type": "markdown",
   "metadata": {},
   "source": [
    "Train FoKL-GPy models on $\\Delta \\propto (T^{-1}, \\ln(p))$:"
   ]
  },
  {
   "cell_type": "code",
   "execution_count": 6,
   "metadata": {},
   "outputs": [
    {
     "name": "stdout",
     "output_type": "stream",
     "text": [
      "\n",
      "Training N2...\n"
     ]
    },
    {
     "name": "stderr",
     "output_type": "stream",
     "text": [
      "/home/jacobpatrick/FoKL-GPy/docs/_dev/langmuir_isotherm/../../../src/FoKL/FoKLRoutines.py:299: UserWarning: 'inputs' was transposed. Ignore if more datapoints than input variables, else set 'AutoTranspose=False' to disable.\n",
      "  warnings.warn(\"'inputs' was transposed. Ignore if more datapoints than input variables, else set \"\n"
     ]
    },
    {
     "name": "stdout",
     "output_type": "stream",
     "text": [
      "[1, -15.130113256172834]\n",
      "[2, -15.130113256172834]\n",
      "[2, -15.130113256172834]\n",
      "[3, -15.130113256172834]\n",
      "\n",
      "Training CH4...\n",
      "[1, -8.301225371591523]\n",
      "[2, -8.301225371591523]\n",
      "[2, -8.301225371591523]\n",
      "[3, -8.301225371591523]\n",
      "\n",
      "Training CO...\n",
      "[1, -25.984883568453817]\n",
      "[2, -26.676304920601684]\n",
      "[2, -227.81855462973454]\n",
      "[3, -227.81855462973454]\n",
      "[3, 16.417276234068108]\n",
      "[4, 10.8721748484174]\n",
      "\n",
      "Training Ar...\n",
      "[1, -32.662014404218]\n",
      "[2, -57.56327732551756]\n",
      "[2, -239.16038334119014]\n",
      "[3, -239.16038334119014]\n",
      "[3, -239.16038334119014]\n",
      "[4, -239.16038334119014]\n",
      "\n",
      "Training O2...\n",
      "[1, -16.12512898630761]\n",
      "[2, -16.12512898630761]\n"
     ]
    },
    {
     "name": "stderr",
     "output_type": "stream",
     "text": [
      "/home/jacobpatrick/.local/lib/python3.12/site-packages/numpy/core/_methods.py:176: RuntimeWarning: overflow encountered in multiply\n",
      "  x = um.multiply(x, x, out=x)\n"
     ]
    },
    {
     "name": "stdout",
     "output_type": "stream",
     "text": [
      "[2, -18.33700263911544]\n",
      "[3, -23.020282072502724]\n",
      "[3, -33.44299268944647]\n",
      "[4, -33.44299268944647]\n",
      "[4, -329.94645215298146]\n",
      "[4, -340.4700939139391]\n",
      "[5, -340.4700939139391]\n",
      "[5, -340.4700939139391]\n",
      "[5, 22.397270607231572]\n"
     ]
    }
   ],
   "source": [
    "i = 0\n",
    "Delta = {}\n",
    "for gas in gases:\n",
    "    print(f\"\\nTraining {gas}...\")\n",
    "    Delta.update({gas: np.log(sigma1[gas])})\n",
    "    models[i].fit([1 / T[gas], np.log(p[gas])], Delta[gas], clean=True)\n",
    "    i += 1"
   ]
  },
  {
   "cell_type": "markdown",
   "metadata": {},
   "source": [
    "Convert to Pyomo:"
   ]
  },
  {
   "cell_type": "code",
   "execution_count": 7,
   "metadata": {},
   "outputs": [],
   "source": [
    "Deltas = []\n",
    "for gas in gases:\n",
    "    Deltas.append(f\"{gas}_Delta\")  # variable name of Delta per gas in Pyomo\n",
    "\n",
    "m = fokl_to_pyomo.fokl_to_pyomo(models, [['inv_T', 'ln_p'], ['inv_T', 'ln_p'], ['inv_T', 'ln_p'], ['inv_T', 'ln_p'], ['inv_T', 'ln_p']], Deltas, truescale=True, draws=2)  # Pyomo model"
   ]
  },
  {
   "cell_type": "markdown",
   "metadata": {},
   "source": [
    "Since a model of $q_{max}$ is being included, training FoKL_GPy models:"
   ]
  },
  {
   "cell_type": "code",
   "execution_count": 8,
   "metadata": {},
   "outputs": [
    {
     "name": "stdout",
     "output_type": "stream",
     "text": [
      "\n",
      "Training N2 qmax...\n",
      "[1, -847.4013565257214]\n",
      "[2, -847.4013565257214]\n",
      "[3, -847.4013565257214]\n",
      "[4, -847.4013565257214]\n",
      "\n",
      "Training CH4 qmax...\n",
      "[1, -973.3726442815567]\n",
      "[2, -973.3726442815567]\n",
      "[3, -973.3726442815567]\n",
      "[4, -973.3726442815567]\n",
      "\n",
      "Training CO qmax...\n"
     ]
    },
    {
     "name": "stderr",
     "output_type": "stream",
     "text": [
      "/home/jacobpatrick/FoKL-GPy/docs/_dev/langmuir_isotherm/../../../src/FoKL/FoKLRoutines.py:1346: RuntimeWarning: divide by zero encountered in log\n",
      "  lik = -(n / 2) * np.log(siglik) - (n - 1) / 2\n"
     ]
    },
    {
     "name": "stdout",
     "output_type": "stream",
     "text": [
      "[1, -inf]\n",
      "[2, -inf]\n",
      "[3, -inf]\n",
      "[4, -inf]\n",
      "\n",
      "Training Ar qmax...\n",
      "[1, -437.8416068361252]\n",
      "[2, -437.8416068361252]\n",
      "[3, -437.8416068361252]\n",
      "[4, -437.8416068361252]\n",
      "\n",
      "Training O2 qmax...\n",
      "[1, -632.5911741128716]\n",
      "[2, -632.5911741128716]\n",
      "[3, -632.5911741128716]\n"
     ]
    },
    {
     "name": "stderr",
     "output_type": "stream",
     "text": [
      "/home/jacobpatrick/.local/lib/python3.12/site-packages/numpy/core/_methods.py:176: RuntimeWarning: overflow encountered in multiply\n",
      "  x = um.multiply(x, x, out=x)\n"
     ]
    },
    {
     "name": "stdout",
     "output_type": "stream",
     "text": [
      "[4, -632.5911741128716]\n"
     ]
    }
   ],
   "source": [
    "N2_qmax = FoKLRoutines.FoKL(kernel=1)\n",
    "CH4_qmax = FoKLRoutines.FoKL(kernel=1)\n",
    "CO_qmax = FoKLRoutines.FoKL(kernel=1)\n",
    "Ar_qmax = FoKLRoutines.FoKL(kernel=1)\n",
    "O2_qmax = FoKLRoutines.FoKL(kernel=1)\n",
    "\n",
    "models_qmax = [N2_qmax, CH4_qmax, CO_qmax, Ar_qmax, O2_qmax]\n",
    "\n",
    "i = 0\n",
    "for gas in gases:\n",
    "    print(f\"\\nTraining {gas} qmax...\")\n",
    "    models_qmax[i].fit(T[gas], qmax[gas], clean=True)  # only T because using b == qmax, where b(T)\n",
    "    i += 1"
   ]
  },
  {
   "cell_type": "markdown",
   "metadata": {},
   "source": [
    "Appending FoKL-GPy models to pre-existing Pyomo model:"
   ]
  },
  {
   "cell_type": "code",
   "execution_count": 9,
   "metadata": {},
   "outputs": [
    {
     "data": {
      "text/plain": [
       "<pyomo.core.base.PyomoModel.ConcreteModel at 0x7f3170b14f00>"
      ]
     },
     "execution_count": 9,
     "metadata": {},
     "output_type": "execute_result"
    }
   ],
   "source": [
    "# # Convert one-by-one:\n",
    "# for model_qmax in models_qmax:\n",
    "#     model_qmax.to_pyomo('T', f\"{gas}_qmax\", truescale=True, m=m)\n",
    "\n",
    "# Or, convert all at once with less function calls (preferred):\n",
    "qmaxs = []\n",
    "for gas in gases:\n",
    "    qmaxs.append(f\"{gas}_qmax\")\n",
    "fokl_to_pyomo.fokl_to_pyomo(models_qmax, [['T'], ['T'], ['T'], ['T'], ['T']], qmaxs, truescale=True, m=m, draws=2)  # 'T' and '{gas}_qmax' already defined (though wasn't necessary), so 'fokl_to_pyomo' will ignore; but this is needed to embed GP in Pyomo"
   ]
  },
  {
   "cell_type": "markdown",
   "metadata": {},
   "source": [
    "Expand upon Pyomo model:\n",
    "\n",
    "1. $\\sigma_1 = \\exp(\\Delta)$\n",
    "2. $q = \\frac{\\sigma_1 q_{max} \\mu}{\\sigma_1 \\mu}$\n",
    "3. $\\theta_1 = \\frac{q}{q_{max}}$"
   ]
  },
  {
   "cell_type": "code",
   "execution_count": 10,
   "metadata": {},
   "outputs": [],
   "source": [
    "m.p = pyo.Var(within=pyo.NonNegativeReals, bounds=np.exp(m.ln_p.bounds).tolist(), initialize=np.exp(m.ln_p.bounds[0]))\n",
    "\n",
    "def eq1(m, i):\n",
    "    return m.component(f\"{gas}_sigma1\")[i] == exp(m.component(f\"{gas}_Delta\")[i])\n",
    "\n",
    "def eq2(m, i, j):\n",
    "    return m.component(f\"{gas}_q\")[i, j] == m.component(f\"{gas}_sigma1\")[i] * m.component(f\"{gas}_qmax\")[j] * m.component(f\"{gas}_mu\") / (1 + m.component(f\"{gas}_sigma1\")[i] * m.component(f\"{gas}_mu\"))\n",
    "\n",
    "def eq3(m, i, j):\n",
    "    return m.component(f\"{gas}_theta1\")[i, j] == m.component(f\"{gas}_q\")[i, j] / m.component(f\"{gas}_qmax\")[j]\n",
    "\n",
    "im = 0  # needed to index GP (i.e., model) since multiple draws leads to multiple equations in order to preserve Bayesian statistics; f\"GP{im}_scenario\" created in 'fokl_to_pyomo'\n",
    "im2 = 5  # for second set of GP's (qmax)\n",
    "for gas in gases:\n",
    "\n",
    "    # Define variables, constant across scenarios:\n",
    "    for var in ['mu']:  # 'qmax' already defined by additional GP models\n",
    "        m.add_component(f\"{gas}_{var}\", pyo.Var(within=pyo.NonNegativeReals, initialize=0.0))\n",
    "    \n",
    "    # Define variables per Delta scenarios (i.e., variables that benefit from including Bayesian statistics from multiple draws, but only for Delta):\n",
    "    for var in ['sigma1']:\n",
    "        m.add_component(f\"{gas}_{var}\", pyo.Var(m.component(f\"GP{im}_scenarios\"), within=pyo.NonNegativeReals, initialize=0.0))  # create var for each scenario\n",
    "    \n",
    "    # Define variables per (Delta, qmax) scenarios (i.e., variables that benefit from including Bayesian statistics from multiple draws, but for both Delta and qmax combinations):\n",
    "    for var in ['q', 'theta1']:\n",
    "        m.add_component(f\"{gas}_{var}\", pyo.Var(m.component(f\"GP{im}_scenarios\"), m.component(f\"GP{im2}_scenarios\"), within=pyo.NonNegativeReals, initialize=0.0))  # create var for each scenario\n",
    "\n",
    "    # Define constraints:\n",
    "    m.add_component(f\"{gas}_eq1\", pyo.Constraint(m.component(f\"GP{im}_scenarios\"), rule=eq1))  # FoKL model to relative life, sigma1 = exp(Delta)\n",
    "    m.add_component(f\"{gas}_eq2\", pyo.Constraint(m.component(f\"GP{im}_scenarios\"), m.component(f\"GP{im2}_scenarios\"), rule=eq2))  # Langmuir isotherm, q = sigma1 * qmax * mu / (1 + sigma1 * mu)\n",
    "    m.add_component(f\"{gas}_eq3\", pyo.Constraint(m.component(f\"GP{im}_scenarios\"), m.component(f\"GP{im2}_scenarios\"), rule=eq3))  # Langmuir isotherm, theta1 = q / qmax\n",
    "\n",
    "    im += 1\n",
    "    im2 += 1"
   ]
  },
  {
   "cell_type": "markdown",
   "metadata": {},
   "source": [
    "Now, the Pyomo model is ready for any additional chemistry constraints or other additions.\n",
    "\n",
    "To compare against the benchmark data, $q$ will be evaluated in Pyomo at the $(T, p)$ values."
   ]
  },
  {
   "cell_type": "code",
   "execution_count": 21,
   "metadata": {},
   "outputs": [
    {
     "name": "stdout",
     "output_type": "stream",
     "text": [
      "WARNING: Implicitly replacing the Component attribute obj (type=<class\n",
      "'pyomo.core.base.objective.ScalarObjective'>) on block unknown with a new\n",
      "Component (type=<class 'pyomo.core.base.objective.ScalarObjective'>). This is\n",
      "usually indicative of a modelling error. To avoid this warning, use\n",
      "block.del_component() and block.add_component().\n"
     ]
    },
    {
     "name": "stdout",
     "output_type": "stream",
     "text": [
      "WARNING: Could not locate the 'ipopt' executable, which is required for solver\n",
      "ipopt\n"
     ]
    },
    {
     "ename": "ApplicationError",
     "evalue": "No executable found for solver 'ipopt'",
     "output_type": "error",
     "traceback": [
      "\u001b[0;31m---------------------------------------------------------------------------\u001b[0m",
      "\u001b[0;31mApplicationError\u001b[0m                          Traceback (most recent call last)",
      "Cell \u001b[0;32mIn[21], line 12\u001b[0m\n\u001b[1;32m      7\u001b[0m m\u001b[38;5;241m.\u001b[39mobj \u001b[38;5;241m=\u001b[39m pyo\u001b[38;5;241m.\u001b[39mObjective(expr\u001b[38;5;241m=\u001b[39m\u001b[38;5;28msum\u001b[39m(m\u001b[38;5;241m.\u001b[39mcomponent(\u001b[38;5;124mf\u001b[39m\u001b[38;5;124m\"\u001b[39m\u001b[38;5;132;01m{\u001b[39;00mgas\u001b[38;5;132;01m}\u001b[39;00m\u001b[38;5;124m_q\u001b[39m\u001b[38;5;124m\"\u001b[39m)[\u001b[38;5;241m0\u001b[39m, \u001b[38;5;241m0\u001b[39m] \u001b[38;5;28;01mfor\u001b[39;00m gas \u001b[38;5;129;01min\u001b[39;00m gases), sense\u001b[38;5;241m=\u001b[39mpyo\u001b[38;5;241m.\u001b[39mminimize)  \u001b[38;5;66;03m# set objective for solver to optimize\u001b[39;00m\n\u001b[1;32m      9\u001b[0m \u001b[38;5;66;03m# m.T.fix(T[gas][i])\u001b[39;00m\n\u001b[1;32m     10\u001b[0m \u001b[38;5;66;03m# m.p.fix(p[gas][i])\u001b[39;00m\n\u001b[0;32m---> 12\u001b[0m \u001b[43msolver\u001b[49m\u001b[38;5;241;43m.\u001b[39;49m\u001b[43msolve\u001b[49m\u001b[43m(\u001b[49m\u001b[43mm\u001b[49m\u001b[43m,\u001b[49m\u001b[43m \u001b[49m\u001b[43msolver\u001b[49m\u001b[38;5;241;43m=\u001b[39;49m\u001b[38;5;124;43m'\u001b[39;49m\u001b[38;5;124;43mipopt\u001b[39;49m\u001b[38;5;124;43m'\u001b[39;49m\u001b[43m,\u001b[49m\u001b[43m \u001b[49m\u001b[43msuppress_unbounded_warning\u001b[49m\u001b[38;5;241;43m=\u001b[39;49m\u001b[38;5;28;43;01mTrue\u001b[39;49;00m\u001b[43m)\u001b[49m\n\u001b[1;32m     24\u001b[0m results\u001b[38;5;241m.\u001b[39mupdate({\u001b[38;5;124mf\u001b[39m\u001b[38;5;124m\"\u001b[39m\u001b[38;5;132;01m{\u001b[39;00mgas\u001b[38;5;132;01m}\u001b[39;00m\u001b[38;5;124m_q_\u001b[39m\u001b[38;5;132;01m{\u001b[39;00mi\u001b[38;5;132;01m}\u001b[39;00m\u001b[38;5;124m\"\u001b[39m: m\u001b[38;5;241m.\u001b[39mcomponent(\u001b[38;5;124mf\u001b[39m\u001b[38;5;124m\"\u001b[39m\u001b[38;5;132;01m{\u001b[39;00mgas\u001b[38;5;132;01m}\u001b[39;00m\u001b[38;5;124m_q\u001b[39m\u001b[38;5;124m\"\u001b[39m)(), \u001b[38;5;124mf\u001b[39m\u001b[38;5;124m\"\u001b[39m\u001b[38;5;132;01m{\u001b[39;00mgas\u001b[38;5;132;01m}\u001b[39;00m\u001b[38;5;124m_theta1_\u001b[39m\u001b[38;5;132;01m{\u001b[39;00mi\u001b[38;5;132;01m}\u001b[39;00m\u001b[38;5;124m\"\u001b[39m: m\u001b[38;5;241m.\u001b[39mcomponent(\u001b[38;5;124mf\u001b[39m\u001b[38;5;124m\"\u001b[39m\u001b[38;5;132;01m{\u001b[39;00mgas\u001b[38;5;132;01m}\u001b[39;00m\u001b[38;5;124m_theta1\u001b[39m\u001b[38;5;124m\"\u001b[39m)()})  \u001b[38;5;66;03m# only q is for benchmark comparison, but theta1 may be desired for practical applications\u001b[39;00m\n",
      "File \u001b[0;32m~/.local/lib/python3.12/site-packages/pyomo/contrib/multistart/multi.py:180\u001b[0m, in \u001b[0;36mMultiStart.solve\u001b[0;34m(self, model, **kwds)\u001b[0m\n\u001b[1;32m    173\u001b[0m tmp_var_list_name \u001b[38;5;241m=\u001b[39m unique_component_name(model, \u001b[38;5;124m\"\u001b[39m\u001b[38;5;124m_vars_list\u001b[39m\u001b[38;5;124m\"\u001b[39m)\n\u001b[1;32m    174\u001b[0m \u001b[38;5;28msetattr\u001b[39m(\n\u001b[1;32m    175\u001b[0m     model,\n\u001b[1;32m    176\u001b[0m     tmp_var_list_name,\n\u001b[1;32m    177\u001b[0m     \u001b[38;5;28mlist\u001b[39m(model\u001b[38;5;241m.\u001b[39mcomponent_data_objects(ctype\u001b[38;5;241m=\u001b[39mVar, descend_into\u001b[38;5;241m=\u001b[39m\u001b[38;5;28;01mTrue\u001b[39;00m)),\n\u001b[1;32m    178\u001b[0m )\n\u001b[0;32m--> 180\u001b[0m best_result \u001b[38;5;241m=\u001b[39m result \u001b[38;5;241m=\u001b[39m \u001b[43msolver\u001b[49m\u001b[38;5;241;43m.\u001b[39;49m\u001b[43msolve\u001b[49m\u001b[43m(\u001b[49m\u001b[43mmodel\u001b[49m\u001b[43m,\u001b[49m\u001b[43m \u001b[49m\u001b[38;5;241;43m*\u001b[39;49m\u001b[38;5;241;43m*\u001b[39;49m\u001b[43mconfig\u001b[49m\u001b[38;5;241;43m.\u001b[39;49m\u001b[43msolver_args\u001b[49m\u001b[43m)\u001b[49m\n\u001b[1;32m    181\u001b[0m \u001b[38;5;28;01mif\u001b[39;00m (\n\u001b[1;32m    182\u001b[0m     result\u001b[38;5;241m.\u001b[39msolver\u001b[38;5;241m.\u001b[39mstatus \u001b[38;5;129;01mis\u001b[39;00m SolverStatus\u001b[38;5;241m.\u001b[39mok\n\u001b[1;32m    183\u001b[0m     \u001b[38;5;129;01mand\u001b[39;00m result\u001b[38;5;241m.\u001b[39msolver\u001b[38;5;241m.\u001b[39mtermination_condition \u001b[38;5;129;01mis\u001b[39;00m tc\u001b[38;5;241m.\u001b[39moptimal\n\u001b[1;32m    184\u001b[0m ):\n\u001b[1;32m    185\u001b[0m     obj_val \u001b[38;5;241m=\u001b[39m value(obj\u001b[38;5;241m.\u001b[39mexpr)\n",
      "File \u001b[0;32m~/.local/lib/python3.12/site-packages/pyomo/opt/base/solvers.py:534\u001b[0m, in \u001b[0;36mOptSolver.solve\u001b[0;34m(self, *args, **kwds)\u001b[0m\n\u001b[1;32m    531\u001b[0m \u001b[38;5;28;01mdef\u001b[39;00m \u001b[38;5;21msolve\u001b[39m(\u001b[38;5;28mself\u001b[39m, \u001b[38;5;241m*\u001b[39margs, \u001b[38;5;241m*\u001b[39m\u001b[38;5;241m*\u001b[39mkwds):\n\u001b[1;32m    532\u001b[0m \u001b[38;5;250m    \u001b[39m\u001b[38;5;124;03m\"\"\"Solve the problem\"\"\"\u001b[39;00m\n\u001b[0;32m--> 534\u001b[0m     \u001b[38;5;28;43mself\u001b[39;49m\u001b[38;5;241;43m.\u001b[39;49m\u001b[43mavailable\u001b[49m\u001b[43m(\u001b[49m\u001b[43mexception_flag\u001b[49m\u001b[38;5;241;43m=\u001b[39;49m\u001b[38;5;28;43;01mTrue\u001b[39;49;00m\u001b[43m)\u001b[49m\n\u001b[1;32m    535\u001b[0m     \u001b[38;5;66;03m#\u001b[39;00m\n\u001b[1;32m    536\u001b[0m     \u001b[38;5;66;03m# If the inputs are models, then validate that they have been\u001b[39;00m\n\u001b[1;32m    537\u001b[0m     \u001b[38;5;66;03m# constructed! Collect suffix names to try and import from solution.\u001b[39;00m\n\u001b[1;32m    538\u001b[0m     \u001b[38;5;66;03m#\u001b[39;00m\n\u001b[1;32m    539\u001b[0m     \u001b[38;5;28;01mfrom\u001b[39;00m \u001b[38;5;21;01mpyomo\u001b[39;00m\u001b[38;5;21;01m.\u001b[39;00m\u001b[38;5;21;01mcore\u001b[39;00m\u001b[38;5;21;01m.\u001b[39;00m\u001b[38;5;21;01mbase\u001b[39;00m\u001b[38;5;21;01m.\u001b[39;00m\u001b[38;5;21;01mblock\u001b[39;00m \u001b[38;5;28;01mimport\u001b[39;00m BlockData\n",
      "File \u001b[0;32m~/.local/lib/python3.12/site-packages/pyomo/opt/solver/shellcmd.py:140\u001b[0m, in \u001b[0;36mSystemCallSolver.available\u001b[0;34m(self, exception_flag)\u001b[0m\n\u001b[1;32m    138\u001b[0m     \u001b[38;5;28;01mif\u001b[39;00m exception_flag:\n\u001b[1;32m    139\u001b[0m         msg \u001b[38;5;241m=\u001b[39m \u001b[38;5;124m\"\u001b[39m\u001b[38;5;124mNo executable found for solver \u001b[39m\u001b[38;5;124m'\u001b[39m\u001b[38;5;132;01m%s\u001b[39;00m\u001b[38;5;124m'\u001b[39m\u001b[38;5;124m\"\u001b[39m\n\u001b[0;32m--> 140\u001b[0m         \u001b[38;5;28;01mraise\u001b[39;00m ApplicationError(msg \u001b[38;5;241m%\u001b[39m \u001b[38;5;28mself\u001b[39m\u001b[38;5;241m.\u001b[39mname)\n\u001b[1;32m    141\u001b[0m     \u001b[38;5;28;01mreturn\u001b[39;00m \u001b[38;5;28;01mFalse\u001b[39;00m\n\u001b[1;32m    142\u001b[0m \u001b[38;5;28;01mreturn\u001b[39;00m \u001b[38;5;28;01mTrue\u001b[39;00m\n",
      "\u001b[0;31mApplicationError\u001b[0m: No executable found for solver 'ipopt'"
     ]
    }
   ],
   "source": [
    "solver = pyo.SolverFactory('multistart')\n",
    "\n",
    "results = {}\n",
    "for gas in gases:\n",
    "    for i in range(data[gas].shape[0]):\n",
    "        # m.obj = pyo.Objective(expr=abs(m.T - T[gas][i]) + abs(m.p - p[gas][i]), sense=pyo.minimize)  # set objective for solver to optimize\n",
    "        m.obj = pyo.Objective(expr=sum(m.component(f\"{gas}_q\")[0, 0] for gas in gases), sense=pyo.minimize)  # set objective for solver to optimize\n",
    "\n",
    "        # m.T.fix(T[gas][i])\n",
    "        # m.p.fix(p[gas][i])\n",
    "\n",
    "        solver.solve(m, solver='ipopt', suppress_unbounded_warning=True)\n",
    "\n",
    "\n",
    "\n",
    "\n",
    "\n",
    "\n",
    "\n",
    "\n",
    "\n",
    "\n",
    "\n",
    "        results.update({f\"{gas}_q_{i}\": m.component(f\"{gas}_q\")(), f\"{gas}_theta1_{i}\": m.component(f\"{gas}_theta1\")()})  # only q is for benchmark comparison, but theta1 may be desired for practical applications"
   ]
  },
  {
   "cell_type": "markdown",
   "metadata": {},
   "source": [
    "Print results:"
   ]
  },
  {
   "cell_type": "code",
   "execution_count": null,
   "metadata": {},
   "outputs": [],
   "source": [
    "for gas in gases:\n",
    "    print(f\"\\nResults for {gas}...\")\n",
    "    for in in len(data[gas].shape[0]):\n",
    "        print(results[f\"{gas}_q_{i}\"])"
   ]
  },
  {
   "cell_type": "markdown",
   "metadata": {},
   "source": [
    "<c id=1> [1] <c/> [THE ADSORPTION OF GASES ON PLANE SURFACES OF GLASS, MICA AND PLATINUM. <br>\n",
    "&emsp;&nbsp; Irving Langmuir <br>\n",
    "&emsp;&nbsp; Journal of the American Chemical Society 1918 40 (9), 1361-1403 <br>\n",
    "&emsp;&nbsp; DOI: 10.1021/ja02242a004](https://pubs.acs.org/doi/epdf/10.1021/ja02242a004#) <br>"
   ]
  }
 ],
 "metadata": {
  "kernelspec": {
   "display_name": "Python 3",
   "language": "python",
   "name": "python3"
  },
  "language_info": {
   "codemirror_mode": {
    "name": "ipython",
    "version": 3
   },
   "file_extension": ".py",
   "mimetype": "text/x-python",
   "name": "python",
   "nbconvert_exporter": "python",
   "pygments_lexer": "ipython3",
   "version": "3.12.3"
  }
 },
 "nbformat": 4,
 "nbformat_minor": 2
}
